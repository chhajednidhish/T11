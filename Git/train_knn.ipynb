{
 "cells": [
  {
   "cell_type": "code",
   "execution_count": 1,
   "source": [
    "# To print all the cell run times, and to continuous run the timer while running the cell.\r\n",
    "!pip install ipython-autotime\r\n",
    "%load_ext autotime"
   ],
   "outputs": [
    {
     "output_type": "stream",
     "name": "stdout",
     "text": [
      "Requirement already satisfied: ipython-autotime in c:\\python\\python39\\lib\\site-packages (0.3.1)\n",
      "Requirement already satisfied: ipython in c:\\python\\python39\\lib\\site-packages (from ipython-autotime) (7.23.1)\n",
      "Requirement already satisfied: prompt-toolkit!=3.0.0,!=3.0.1,<3.1.0,>=2.0.0 in c:\\python\\python39\\lib\\site-packages (from ipython->ipython-autotime) (3.0.18)\n",
      "Requirement already satisfied: setuptools>=18.5 in c:\\python\\python39\\lib\\site-packages (from ipython->ipython-autotime) (49.2.1)\n",
      "Requirement already satisfied: backcall in c:\\python\\python39\\lib\\site-packages (from ipython->ipython-autotime) (0.2.0)\n",
      "Requirement already satisfied: jedi>=0.16 in c:\\python\\python39\\lib\\site-packages (from ipython->ipython-autotime) (0.18.0)\n",
      "Requirement already satisfied: traitlets>=4.2 in c:\\python\\python39\\lib\\site-packages (from ipython->ipython-autotime) (5.0.5)\n",
      "Requirement already satisfied: decorator in c:\\python\\python39\\lib\\site-packages (from ipython->ipython-autotime) (4.4.2)\n",
      "Requirement already satisfied: pickleshare in c:\\python\\python39\\lib\\site-packages (from ipython->ipython-autotime) (0.7.5)\n",
      "Requirement already satisfied: matplotlib-inline in c:\\python\\python39\\lib\\site-packages (from ipython->ipython-autotime) (0.1.2)\n",
      "Requirement already satisfied: colorama in c:\\python\\python39\\lib\\site-packages (from ipython->ipython-autotime) (0.4.4)\n",
      "Requirement already satisfied: pygments in c:\\python\\python39\\lib\\site-packages (from ipython->ipython-autotime) (2.9.0)\n",
      "Requirement already satisfied: parso<0.9.0,>=0.8.0 in c:\\python\\python39\\lib\\site-packages (from jedi>=0.16->ipython->ipython-autotime) (0.8.2)\n",
      "Requirement already satisfied: wcwidth in c:\\python\\python39\\lib\\site-packages (from prompt-toolkit!=3.0.0,!=3.0.1,<3.1.0,>=2.0.0->ipython->ipython-autotime) (0.2.5)\n",
      "Requirement already satisfied: ipython-genutils in c:\\python\\python39\\lib\\site-packages (from traitlets>=4.2->ipython->ipython-autotime) (0.2.0)\n",
      "time: 0 ns (started: 2021-07-26 22:12:43 +05:30)\n"
     ]
    }
   ],
   "metadata": {}
  },
  {
   "cell_type": "code",
   "execution_count": 2,
   "source": [
    "#Preprocessing\r\n",
    "#1. resize (to normalize)\r\n",
    "#2. flattening\r\n",
    "\r\n",
    "import os\r\n",
    "import cv2\r\n",
    "import matplotlib.pyplot as plt\r\n",
    "import numpy as np\r\n",
    "from skimage.io import imread\r\n",
    "from skimage.transform import resize\r\n",
    "\r\n",
    "target = [] #1, 5, 6,8 , sunflower, ball etc\r\n",
    "images = []\r\n",
    "flat_data = []\r\n",
    "\r\n",
    "DATADIR = 'C:/Python/Python/ML Internship/data/train'\r\n",
    "# \r\n",
    "CATEGORIES = ['0','1','2','3','4','5','6','7','8','9','A','B','C','D','E','F','G','H','I','J','K','L','M','N','O','R','S','T','U','V','W','X','Y','Z']\r\n",
    "\r\n",
    "for category in CATEGORIES:\r\n",
    "  class_num = CATEGORIES.index(category) #label encoding .. String labels to numbers\r\n",
    "  path = os.path.join(DATADIR, category) #create path to use all images\r\n",
    "  for img in os.listdir(path):\r\n",
    "    img_array = cv2.imread(os.path.join(path, img),2)   \r\n",
    "    ret, bw = cv2.threshold(img_array, 90, 255, cv2.THRESH_BINARY)\r\n",
    "    bw_resized = resize(bw, (128,128,1))\r\n",
    "    #print(img_array.shape)   #gives height, width, depth RGB hence 3\r\n",
    "    #plt.imshow(img_array) #normalizes between 0 to 1\r\n",
    "    flat_data.append(bw_resized.flatten())\r\n",
    "    images.append(bw_resized)\r\n",
    "    target.append(class_num)\r\n",
    "\r\n",
    "flat_data = np.array(flat_data)\r\n",
    "target = np.array(target)\r\n",
    "images = np.array(images)"
   ],
   "outputs": [
    {
     "output_type": "stream",
     "name": "stdout",
     "text": [
      "time: 26.6 s (started: 2021-07-26 22:12:49 +05:30)\n"
     ]
    }
   ],
   "metadata": {}
  },
  {
   "cell_type": "code",
   "execution_count": 3,
   "source": [
    "# To see what are the values stored in the flat data array, after execution of the cell above \r\n",
    "flat_data[0]"
   ],
   "outputs": [
    {
     "output_type": "execute_result",
     "data": {
      "text/plain": [
       "array([1., 0., 0., ..., 0., 0., 0.])"
      ]
     },
     "metadata": {},
     "execution_count": 3
    },
    {
     "output_type": "stream",
     "name": "stdout",
     "text": [
      "time: 31 ms (started: 2021-07-26 22:13:19 +05:30)\n"
     ]
    }
   ],
   "metadata": {}
  },
  {
   "cell_type": "code",
   "execution_count": 4,
   "source": [
    "target"
   ],
   "outputs": [
    {
     "output_type": "execute_result",
     "data": {
      "text/plain": [
       "array([ 0,  0,  0, ..., 33, 33, 33])"
      ]
     },
     "metadata": {},
     "execution_count": 4
    },
    {
     "output_type": "stream",
     "name": "stdout",
     "text": [
      "time: 0 ns (started: 2021-07-26 22:13:21 +05:30)\n"
     ]
    }
   ],
   "metadata": {}
  },
  {
   "cell_type": "code",
   "execution_count": 5,
   "source": [
    "unique, count = np.unique(target, return_counts=True)\r\n",
    "plt.bar(CATEGORIES, count)"
   ],
   "outputs": [
    {
     "output_type": "execute_result",
     "data": {
      "text/plain": [
       "<BarContainer object of 34 artists>"
      ]
     },
     "metadata": {},
     "execution_count": 5
    },
    {
     "output_type": "display_data",
     "data": {
      "text/plain": [
       "<Figure size 432x288 with 1 Axes>"
      ],
      "image/png": "[encoded data removed]"
     },
     "metadata": {
      "needs_background": "light"
     }
    },
    {
     "output_type": "stream",
     "name": "stdout",
     "text": [
      "time: 312 ms (started: 2021-07-26 22:13:22 +05:30)\n"
     ]
    }
   ],
   "metadata": {}
  },
  {
   "cell_type": "code",
   "execution_count": 6,
   "source": [
    "#split data into training and testing\r\n",
    "from sklearn.model_selection import train_test_split\r\n",
    "x_train,x_test, y_train, y_test = train_test_split(flat_data, target, test_size = 0.3, random_state = 109)"
   ],
   "outputs": [
    {
     "output_type": "stream",
     "name": "stdout",
     "text": [
      "time: 2.56 s (started: 2021-07-26 22:13:24 +05:30)\n"
     ]
    }
   ],
   "metadata": {}
  },
  {
   "cell_type": "code",
   "execution_count": 7,
   "source": [
    "from sklearn.neighbors import KNeighborsClassifier\r\n",
    "neigh = KNeighborsClassifier(n_neighbors=17).fit(x_train, y_train)"
   ],
   "outputs": [
    {
     "output_type": "stream",
     "name": "stdout",
     "text": [
      "time: 391 ms (started: 2021-07-26 22:13:36 +05:30)\n"
     ]
    }
   ],
   "metadata": {}
  },
  {
   "cell_type": "code",
   "execution_count": 8,
   "source": [
    "y_pred = neigh.predict(x_test)\r\n",
    "y_pred"
   ],
   "outputs": [
    {
     "output_type": "execute_result",
     "data": {
      "text/plain": [
       "array([ 8,  4,  6, ..., 17, 18, 20])"
      ]
     },
     "metadata": {},
     "execution_count": 8
    },
    {
     "output_type": "stream",
     "name": "stdout",
     "text": [
      "time: 5.66 s (started: 2021-07-26 22:13:38 +05:30)\n"
     ]
    }
   ],
   "metadata": {}
  },
  {
   "cell_type": "code",
   "execution_count": 9,
   "source": [
    "y_test"
   ],
   "outputs": [
    {
     "output_type": "execute_result",
     "data": {
      "text/plain": [
       "array([ 8,  4,  6, ..., 17, 18, 20])"
      ]
     },
     "metadata": {},
     "execution_count": 9
    },
    {
     "output_type": "stream",
     "name": "stdout",
     "text": [
      "time: 0 ns (started: 2021-07-26 22:13:49 +05:30)\n"
     ]
    }
   ],
   "metadata": {}
  },
  {
   "cell_type": "code",
   "execution_count": 10,
   "source": [
    "from sklearn.metrics import accuracy_score, confusion_matrix"
   ],
   "outputs": [
    {
     "output_type": "stream",
     "name": "stdout",
     "text": [
      "time: 0 ns (started: 2021-07-26 22:13:50 +05:30)\n"
     ]
    }
   ],
   "metadata": {}
  },
  {
   "cell_type": "code",
   "execution_count": 11,
   "source": [
    "accuracy_score(y_pred, y_test)"
   ],
   "outputs": [
    {
     "output_type": "execute_result",
     "data": {
      "text/plain": [
       "0.9728897104128158"
      ]
     },
     "metadata": {},
     "execution_count": 11
    },
    {
     "output_type": "stream",
     "name": "stdout",
     "text": [
      "time: 0 ns (started: 2021-07-26 22:13:52 +05:30)\n"
     ]
    }
   ],
   "metadata": {}
  },
  {
   "cell_type": "code",
   "execution_count": 12,
   "source": [
    "confusion_matrix(y_pred, y_test)"
   ],
   "outputs": [
    {
     "output_type": "execute_result",
     "data": {
      "text/plain": [
       "array([[47,  0,  0, ...,  0,  0,  0],\n",
       "       [ 0, 58,  0, ...,  0,  0,  0],\n",
       "       [ 0,  0, 52, ...,  0,  0,  0],\n",
       "       ...,\n",
       "       [ 0,  0,  0, ..., 56,  0,  0],\n",
       "       [ 0,  0,  0, ...,  0, 47,  0],\n",
       "       [ 0,  0,  0, ...,  0,  0, 46]], dtype=int64)"
      ]
     },
     "metadata": {},
     "execution_count": 12
    },
    {
     "output_type": "stream",
     "name": "stdout",
     "text": [
      "time: 0 ns (started: 2021-07-26 22:13:54 +05:30)\n"
     ]
    }
   ],
   "metadata": {}
  },
  {
   "cell_type": "code",
   "execution_count": 13,
   "source": [
    "#save the model using pickle library\r\n",
    "# Step1 if model is already trained.\r\n",
    "import pickle"
   ],
   "outputs": [
    {
     "output_type": "stream",
     "name": "stdout",
     "text": [
      "time: 0 ns (started: 2021-07-26 22:13:56 +05:30)\n"
     ]
    }
   ],
   "metadata": {}
  },
  {
   "cell_type": "code",
   "execution_count": 14,
   "source": [
    "\r\n",
    "pickle.dump(neigh, open('imgknn_0toz.p','wb')) #to deploy and avoid rerunning"
   ],
   "outputs": [
    {
     "output_type": "stream",
     "name": "stdout",
     "text": [
      "time: 1.05 s (started: 2021-07-26 22:14:07 +05:30)\n"
     ]
    }
   ],
   "metadata": {}
  },
  {
   "cell_type": "code",
   "execution_count": 15,
   "source": [
    "# Step2 if model is already trained.\r\n",
    "model3 = pickle.load(open('imgknn_0toz.p','rb'))"
   ],
   "outputs": [
    {
     "output_type": "stream",
     "name": "stdout",
     "text": [
      "time: 500 ms (started: 2021-07-26 22:14:10 +05:30)\n"
     ]
    }
   ],
   "metadata": {}
  },
  {
   "cell_type": "code",
   "execution_count": 16,
   "source": [
    "import os\r\n",
    "import cv2\r\n",
    "import matplotlib.pyplot as plt\r\n",
    "import numpy as np\r\n",
    "from skimage.io import imread\r\n",
    "from skimage.transform import resize\r\n",
    "CATEGORIES = ['A','B','C','D','E','F','G','H','I','J','K','L','M','N','O','R','S','T','U','V','W','X','Y','Z']"
   ],
   "outputs": [
    {
     "output_type": "stream",
     "name": "stdout",
     "text": [
      "time: 16 ms (started: 2021-07-26 22:14:12 +05:30)\n"
     ]
    }
   ],
   "metadata": {}
  },
  {
   "cell_type": "code",
   "execution_count": 17,
   "source": [
    "#KNN classifier\r\n",
    "flat_data = []\r\n",
    "url = input('Enter your URL : ')\r\n",
    "img_array = cv2.imread(url,2)   \r\n",
    "ret, bw = cv2.threshold(img_array, 90, 255, cv2.THRESH_BINARY)\r\n",
    "bw_resized = resize(bw, (128,128,1)) #normalizes between 0 to 1\r\n",
    "flat_data.append(bw_resized.flatten())\r\n",
    "flat_data = np.array(flat_data)\r\n",
    "plt.imshow(bw_resized)\r\n",
    "y_out = model3.predict(flat_data)\r\n",
    "y_out = CATEGORIES[y_out[0]]\r\n",
    "print(f'PREDICTED OUTPUT : {y_out}')\r\n",
    "# Import the required module for text\r\n",
    "# to speech conversion\r\n",
    "import pyttsx3\r\n",
    "\r\n",
    "# init function to get an engine instance for the speech synthesis\r\n",
    "engine = pyttsx3.init()\r\n",
    "\r\n",
    "# say method on the engine that passing input text to be spoken\r\n",
    "engine.say(y_out)\r\n",
    "\r\n",
    "# run and wait method, it processes the voice commands.\r\n",
    "engine.runAndWait()"
   ],
   "outputs": [
    {
     "output_type": "stream",
     "name": "stdout",
     "text": [
      "PREDICTED OUTPUT : I\n"
     ]
    },
    {
     "output_type": "display_data",
     "data": {
      "text/plain": [
       "<Figure size 432x288 with 1 Axes>"
      ],
      "image/png": "[encoded data removed]"
     },
     "metadata": {
      "needs_background": "light"
     }
    },
    {
     "output_type": "stream",
     "name": "stdout",
     "text": [
      "time: 3.61 s (started: 2021-07-26 22:14:20 +05:30)\n"
     ]
    }
   ],
   "metadata": {}
  },
  {
   "cell_type": "code",
   "execution_count": null,
   "source": [
    "\r\n"
   ],
   "outputs": [],
   "metadata": {}
  }
 ],
 "metadata": {
  "orig_nbformat": 4,
  "language_info": {
   "name": "python",
   "version": "3.9.2",
   "mimetype": "text/x-python",
   "codemirror_mode": {
    "name": "ipython",
    "version": 3
   },
   "pygments_lexer": "ipython3",
   "nbconvert_exporter": "python",
   "file_extension": ".py"
  },
  "kernelspec": {
   "name": "python3",
   "display_name": "Python 3.9.2 64-bit"
  },
  "interpreter": {
   "hash": "ee5cc6fef2d70a7e71ee3826687cbd150f18158e0b1eef11d4f4f92bb920e304"
  }
 },
 "nbformat": 4,
 "nbformat_minor": 2
}